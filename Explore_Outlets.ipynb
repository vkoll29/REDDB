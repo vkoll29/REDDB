{
 "cells": [
  {
   "cell_type": "code",
   "execution_count": 3,
   "outputs": [],
   "source": [
    "import pandas as pd"
   ],
   "metadata": {
    "collapsed": false,
    "pycharm": {
     "name": "#%%\n"
    }
   }
  },
  {
   "cell_type": "code",
   "execution_count": 4,
   "outputs": [],
   "source": [
    "outlets = pd.read_parquet('IR_Outlet_2022-08-02-00-00-00.parquet')\n"
   ],
   "metadata": {
    "collapsed": false,
    "pycharm": {
     "name": "#%%\n"
    }
   }
  },
  {
   "cell_type": "code",
   "execution_count": 13,
   "outputs": [],
   "source": [
    "SON = outlets['SalesOrganizationName'].unique().tolist()"
   ],
   "metadata": {
    "collapsed": false,
    "pycharm": {
     "name": "#%%\n"
    }
   }
  },
  {
   "cell_type": "code",
   "execution_count": 14,
   "outputs": [
    {
     "data": {
      "text/plain": "['7209',\n '66859',\n '24451',\n 'Alfred Mabu',\n 'PETER WANJOHI',\n 'JOHN MUSYIMI',\n 'A0998',\n 'WINNIE MAINA',\n '67730',\n '61634',\n 'FRANCIS ONGORO',\n 'A0989',\n 'PAUL GATERE',\n '7087',\n '23503',\n '37073',\n 'John Kibara',\n 'Miriam Mutyanziu',\n 'RSM-SOUTHERN',\n 'Winfred Mogaka',\n 'John Kibaara',\n 'RSM-WESTERN',\n 'Vacant',\n 'RSM-MOUNTAIN',\n 'Miriam Mutyanzui',\n 'None',\n '24476',\n '24516',\n 'Winfred Gesare Mogaka',\n '24477',\n '61635',\n '61636',\n '7211',\n '63227',\n '24499',\n None]"
     },
     "execution_count": 14,
     "metadata": {},
     "output_type": "execute_result"
    }
   ],
   "source": [
    "SOC = outlets['SalesOrganizationCode'].unique().tolist()\n",
    "SOC"
   ],
   "metadata": {
    "collapsed": false,
    "pycharm": {
     "name": "#%%\n"
    }
   }
  }
 ],
 "metadata": {
  "kernelspec": {
   "display_name": "Python 3",
   "language": "python",
   "name": "python3"
  },
  "language_info": {
   "codemirror_mode": {
    "name": "ipython",
    "version": 2
   },
   "file_extension": ".py",
   "mimetype": "text/x-python",
   "name": "python",
   "nbconvert_exporter": "python",
   "pygments_lexer": "ipython2",
   "version": "2.7.6"
  }
 },
 "nbformat": 4,
 "nbformat_minor": 0
}